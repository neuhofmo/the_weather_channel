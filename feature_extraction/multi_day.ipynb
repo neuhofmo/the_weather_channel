{
 "cells": [
  {
   "cell_type": "code",
   "execution_count": 44,
   "metadata": {},
   "outputs": [],
   "source": [
    "import pandas as pd\n",
    "import numpy as np\n",
    "from sklearn import preprocessing\n",
    "from sklearn.linear_model import LinearRegression\n",
    "from sklearn import metrics\n",
    "from datetime import datetime\n",
    "import pickle\n",
    "import re\n",
    "\n",
    "%matplotlib inline\n",
    "\n",
    "test_flag = 1"
   ]
  },
  {
   "cell_type": "code",
   "execution_count": 38,
   "metadata": {},
   "outputs": [],
   "source": [
    "with open('..//datasets/ts_df_test_list.pickle','rb') as f:\n",
    "    list_dfs_per_length = pickle.load(f)\n",
    "df_ts_features = list_dfs_per_length[7]"
   ]
  },
  {
   "cell_type": "code",
   "execution_count": 91,
   "metadata": {},
   "outputs": [
    {
     "name": "stdout",
     "output_type": "stream",
     "text": [
      "['Persist. value_humidity_1', 'C3_wind_1', 'EC_wind_2', 'EC_humidity_1', 'C3_tmax_1', 'CO_wind_1', 'OH_tmin_2', 'City', 'C3_tmin_1', 'CO_tmax_1', 'Persist. value_tmax_2', 'CO_tmax_2', 'C3_tmin_2', 'Persist. value_tmin_1', 'EC_tmin_2', 'EC_tmax_1', 'Persist. value_wind_2', 'Persist. value_humidity_2', 'EC_tmin_1', 'Persist. value_wind_1', 'Persist. value_tmin_2', 'C3_humidity_2', 'EC_tmax_2', 'CO_tmin_2', 'EC_wind_1', 'OH_wind_2', 'OH_tmin_1', 'Persist. value_tmax_1', 'EC_humidity_2', 'C3_tmax_2', 'OH_tmax_2', 'Validity date', 'OH_wind_1', 'OH_tmax_1', 'CO_wind_2', 'CO_tmin_1', 'C3_wind_2', 'C3_humidity_1']\n",
      "['Persist. value_tmax_1', 'Persist. value_tmax_1_-1', 'Persist. value_tmax_1_-2', 'Persist. value_tmax_1_-3', 'Persist. value_tmax_1_-4', 'Persist. value_tmax_1_-5', 'Persist. value_tmax_1_-6', 'Persist. value_tmax_1_-7', 'Persist. value_tmax_1_-8']\n"
     ]
    }
   ],
   "source": [
    "def clean_name(name):\n",
    "    seperate_loc = name.find('-')\n",
    "    if seperate_loc == -1:\n",
    "        pass\n",
    "    else:\n",
    "        name = name[:seperate_loc-1]\n",
    "    return name\n",
    "\n",
    "def base_feature_name(col_names):\n",
    "    names_proccesed = []\n",
    "    for name in col_names:\n",
    "        names_proccesed.append(clean_name(name))\n",
    "    return list(set(names_proccesed))\n",
    "\n",
    "if test_flag:\n",
    "    print(base_feature_name(df_ts_features.columns))\n",
    "    \n",
    "def indexes_per_name(col_names,name):\n",
    "    return [x for x in col_names if x[:len(name)]==name]\n",
    "\n",
    "if test_flag:\n",
    "    print(indexes_per_name(df_ts_features.columns,'Persist. value_tmax_1'))\n",
    "    \n",
    "unique_names = base_feature_name(df_ts_features.columns)\n",
    "col_idx_list = [indexes_per_name(df_ts_features.columns,name) for name in unique_names]\n",
    "col_idx_list = [x for x in col_idx_list if len(x)>1]"
   ]
  },
  {
   "cell_type": "code",
   "execution_count": 100,
   "metadata": {},
   "outputs": [
    {
     "name": "stdout",
     "output_type": "stream",
     "text": [
      "(9,)\n",
      "(9,)\n",
      "(9,)\n",
      "(9,)\n",
      "(9,)\n",
      "(9,)\n",
      "(9,)\n",
      "(9,)\n",
      "(9,)\n",
      "(9,)\n",
      "(9,)\n",
      "(9,)\n",
      "(9,)\n",
      "(9,)\n",
      "(9,)\n",
      "(9,)\n",
      "(9,)\n",
      "(9,)\n",
      "(9,)\n",
      "(9,)\n",
      "(9,)\n",
      "(9,)\n",
      "(9,)\n",
      "(9,)\n",
      "(9,)\n",
      "(9,)\n",
      "(9,)\n",
      "(9,)\n",
      "(9,)\n",
      "(9,)\n",
      "(9,)\n",
      "(9,)\n",
      "(9,)\n",
      "(9,)\n",
      "(9,)\n",
      "(9,)\n",
      "[23.926327252682746, 3.8425814368423516, 3.2697642154582582, 14.332902663641864, 1.4740554623801776, 4.559715174123906, 1.3425606637327303, 2.6434171674156266, 1.3966450099973926, 2.5385910352879693, 1.4701331089478575, 2.779999111821512, 2.7666443551086073, 1.4740554623801776, 1.8257418583505538, 3.956554181058857, 23.926327252682746, 1.547598697464902, 3.956554181058857, 2.7666443551086073, 10.499853026602178, 1.7708197167232476, 1.3373605846342762, 3.424674446093876, 5.792715732327589, 1.4142135623730951, 2.5385910352879693, 15.772299518420432, 1.3698697784375504, 1.4740554623801778, 5.3495124965380985, 1.49071198499986, 4.971910232297511, 1.3653164061450695, 3.4318767136623336, 10.296829189513861]\n"
     ]
    }
   ],
   "source": [
    "# Function API for time series features\n",
    "# row - pandas row from Dataframe with time searies\n",
    "# col_idx_list - created in cell above\n",
    "# series_functions - list of functions that recive an ndarray of shape (days_back,) and returns a number\n",
    "def time_features_per_row(row,col_idx_list,series_functions):\n",
    "    time_features = []\n",
    "    for col_idxs in col_idx_list:\n",
    "        time_series = row[col_idxs].values\n",
    "        for func in series_functions:\n",
    "            feature_name = clean_name(col_idxs[0]) + '_' + func.__name__\n",
    "            time_features.append(func(time_series))\n",
    "\n",
    "    return time_features\n",
    "\n",
    "if test_flag:\n",
    "    print(time_features_per_row(df_ts_features.iloc[0],col_idx_list,[np.std]))"
   ]
  },
  {
   "cell_type": "code",
   "execution_count": null,
   "metadata": {},
   "outputs": [],
   "source": []
  }
 ],
 "metadata": {
  "kernelspec": {
   "display_name": "Python 3",
   "language": "python",
   "name": "python3"
  },
  "language_info": {
   "codemirror_mode": {
    "name": "ipython",
    "version": 3
   },
   "file_extension": ".py",
   "mimetype": "text/x-python",
   "name": "python",
   "nbconvert_exporter": "python",
   "pygments_lexer": "ipython3",
   "version": "3.6.4"
  }
 },
 "nbformat": 4,
 "nbformat_minor": 1
}
