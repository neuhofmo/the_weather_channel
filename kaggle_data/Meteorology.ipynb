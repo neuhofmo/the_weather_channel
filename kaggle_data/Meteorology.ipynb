{
 "cells": [
  {
   "cell_type": "code",
   "execution_count": 1,
   "metadata": {
    "collapsed": true
   },
   "outputs": [],
   "source": [
    "import pandas as pd\n",
    "import numpy as np\n",
    "from sklearn import preprocessing\n",
    "from sklearn.linear_model import LinearRegression\n",
    "from sklearn import metrics\n",
    "from datetime import datetime"
   ]
  },
  {
   "cell_type": "code",
   "execution_count": 2,
   "metadata": {
    "collapsed": true
   },
   "outputs": [],
   "source": [
    "# Read data\n",
    "\n",
    "# train sets\n",
    "Tmax_train = pd.read_csv(r'train_maxTemp.csv')\n",
    "Tmin_train = pd.read_csv(r'train_minTemp.csv')\n",
    "\n",
    "# test sets\n",
    "Tmax_test = pd.read_csv(r'test_maxTemp.csv')\n",
    "Tmin_test = pd.read_csv(r'test_minTemp.csv')\n",
    "\n",
    "# obs values\n",
    "train_Tmax_obs = pd.read_csv(r'train_label.csv')\n",
    "test_Tmax_obs = pd.read_csv(r'test_label.csv')"
   ]
  },
  {
   "cell_type": "code",
   "execution_count": 3,
   "metadata": {},
   "outputs": [],
   "source": [
    "# remove all evening record  (Time = 2 is evening. Time = 1 is morning)\n",
    "\n",
    "Tmax_train = Tmax_train.loc[Tmax_train['Time'] == 1]\n",
    "Tmin_train = Tmin_train.loc[Tmin_train['Time'] == 1]\n",
    "Tmax_test = Tmax_test.loc[Tmax_test['Time'] == 1]\n",
    "Tmin_test = Tmin_test.loc[Tmin_test['Time'] == 1]"
   ]
  },
  {
   "cell_type": "code",
   "execution_count": 4,
   "metadata": {
    "scrolled": true
   },
   "outputs": [],
   "source": [
    "# join data sets by keys: Form, Validity date, City\n",
    "\n",
    "joined_train = pd.merge(Tmax_train, Tmin_train, on=['Time', 'Validity date', 'City'])\n",
    "joined_test = pd.merge(Tmax_test, Tmin_test, on=['Time', 'Validity date', 'City'])"
   ]
  },
  {
   "cell_type": "code",
   "execution_count": 5,
   "metadata": {},
   "outputs": [],
   "source": [
    "# Casting string values to float (the model can fit only float values)\n",
    "\n",
    "# casting 'Validity date' to datetime.timestamp\n",
    "def castDates(df):  \n",
    "    df['Basis date_x'] = df['Basis date_x'].apply(lambda x: (datetime.strptime(x, '%d-%m-%y')).timestamp())\n",
    "    df['Basis date_y'] = df['Basis date_y'].apply(lambda x: (datetime.strptime(x, '%d-%m-%y')).timestamp())\n",
    "    df['Validity date'] = df['Validity date'].apply(lambda x: (datetime.strptime(x, '%d-%m-%y')).timestamp())\n",
    "\n",
    "leCity = preprocessing.LabelEncoder()\n",
    "leCity.fit(joined_train['City'])\n",
    "\n",
    "joined_train['City'] = leCity.transform(joined_train['City'])\n",
    "castDates(joined_train)\n",
    "\n",
    "joined_test['City'] = leCity.transform(joined_test['City'])\n",
    "castDates(joined_test)"
   ]
  },
  {
   "cell_type": "code",
   "execution_count": 6,
   "metadata": {
    "scrolled": true
   },
   "outputs": [
    {
     "data": {
      "text/plain": [
       "LinearRegression(copy_X=True, fit_intercept=True, n_jobs=1, normalize=False)"
      ]
     },
     "execution_count": 6,
     "metadata": {},
     "output_type": "execute_result"
    }
   ],
   "source": [
    "# Create a linear Regression model\n",
    "reg = LinearRegression()\n",
    "reg.fit(joined_train, train_Tmax_obs['observedMaxTemp'])"
   ]
  },
  {
   "cell_type": "code",
   "execution_count": 7,
   "metadata": {
    "collapsed": true
   },
   "outputs": [],
   "source": [
    "# Prediction\n",
    "\n",
    "predicted_values = reg.predict(joined_test)"
   ]
  },
  {
   "cell_type": "code",
   "execution_count": 8,
   "metadata": {},
   "outputs": [
    {
     "name": "stdout",
     "output_type": "stream",
     "text": [
      "1.75672391465\n"
     ]
    }
   ],
   "source": [
    "# Accuracy of the model\n",
    "\n",
    "# Calculate rmse by the difference square of the model predicted values and the actual values (obs)\n",
    "rmse = np.sqrt(metrics.mean_squared_error(test_Tmax_obs['observedMaxTemp'], predicted_values))\n",
    "\n",
    "print(rmse)"
   ]
  },
  {
   "cell_type": "code",
   "execution_count": 10,
   "metadata": {},
   "outputs": [],
   "source": [
    "# Create a new data frame containing 2 columns:\n",
    "# 1. key -concatenation of station name and date\n",
    "# 2. predicted values\n",
    "\n",
    "dates = joined_test['Validity date'].apply(lambda x: datetime.fromtimestamp(x).strftime('%d-%m-%y') + '_')\n",
    "cities = leCity.inverse_transform(joined_test['City'])\n",
    "prediction_data = pd.DataFrame()\n",
    "prediction_data['validityDate_city'] = dates + cities\n",
    "prediction_data['predictedMaxTemp'] = predicted_values\n",
    "\n",
    "prediction_data.to_csv(r'sampleSubmission.csv', index=False)"
   ]
  },
  {
   "cell_type": "code",
   "execution_count": null,
   "metadata": {
    "collapsed": true
   },
   "outputs": [],
   "source": []
  }
 ],
 "metadata": {
  "kernelspec": {
   "display_name": "Python 3",
   "language": "python",
   "name": "python3"
  },
  "language_info": {
   "codemirror_mode": {
    "name": "ipython",
    "version": 3
   },
   "file_extension": ".py",
   "mimetype": "text/x-python",
   "name": "python",
   "nbconvert_exporter": "python",
   "pygments_lexer": "ipython3",
   "version": "3.6.4"
  }
 },
 "nbformat": 4,
 "nbformat_minor": 1
}
